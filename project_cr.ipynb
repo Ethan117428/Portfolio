{
 "cells": [
  {
   "cell_type": "markdown",
   "id": "611a65ef-e3e1-4167-bd77-f30e5bfa5457",
   "metadata": {},
   "source": [
    "# Import libraries #"
   ]
  },
  {
   "cell_type": "code",
   "execution_count": 1,
   "id": "efaa12e0-0986-4f13-8d66-5b472bba8173",
   "metadata": {},
   "outputs": [],
   "source": [
    "import cv2\n",
    "import glob\n",
    "import numpy as np\n",
    "from sklearn.model_selection import train_test_split\n",
    "import tensorflow as tf\n",
    "from keras.models import Sequential\n",
    "from keras.layers import Dense, Flatten, Input\n",
    "from sklearn.preprocessing import LabelBinarizer\n",
    "from keras.layers import Conv2D, MaxPooling2D, Dropout, BatchNormalization\n",
    "import matplotlib.pyplot as plt\n",
    "from keras.models import load_model\n",
    "import random"
   ]
  },
  {
   "cell_type": "markdown",
   "id": "e410cd12-4623-4768-a04c-4d48da467a7f",
   "metadata": {},
   "source": [
    "# Configure TensorFlow to use a GPU and manage its memory usage #"
   ]
  },
  {
   "cell_type": "code",
   "execution_count": 2,
   "id": "d405428f-a59d-4461-98d8-f803ba41f86a",
   "metadata": {},
   "outputs": [],
   "source": [
    "physical_devices = tf.config.list_physical_devices('GPU')\n",
    "tf.config.experimental.set_memory_growth(physical_devices[0], True)"
   ]
  },
  {
   "cell_type": "markdown",
   "id": "dcad5e2c-97b0-4feb-af33-2f25fbd4dbdd",
   "metadata": {},
   "source": [
    "# Data preprocess #"
   ]
  },
  {
   "cell_type": "code",
   "execution_count": 3,
   "id": "f7876dc5-de33-4c33-b2dd-c46d9999f0b1",
   "metadata": {},
   "outputs": [],
   "source": [
    "classes = ['0','1','2','3','4','5','6','7','8','9','A','B','C','D','E','F','G','H','I','J','K','L','M','N','P','Q','R','S','T','U','V','W','X','Y','Z']\n",
    "path_cr=[]\n",
    "lb = LabelBinarizer()\n",
    "one_hot_labels = lb.fit_transform(classes)\n",
    "image=[]\n",
    "label=[]\n",
    "image_size=(28,28)"
   ]
  },
  {
   "cell_type": "code",
   "execution_count": 4,
   "id": "cd4af547-a67a-49fd-b03f-3a97cfbaf4ea",
   "metadata": {},
   "outputs": [],
   "source": [
    "for i, cls in enumerate(classes):\n",
    "    image_files = glob.glob(f'./CNN letter Dataset/{cls}/*.jpg')\n",
    "    for image_file in image_files:\n",
    "        img = cv2.imread(image_file)\n",
    "        img = cv2.resize(img,image_size)\n",
    "        label.append(one_hot_labels[i])\n",
    "        image.append(img)"
   ]
  },
  {
   "cell_type": "code",
   "execution_count": 5,
   "id": "159fb7a6-65c0-4b73-a637-08e52899db41",
   "metadata": {},
   "outputs": [],
   "source": [
    "X= np.array(image)\n",
    "Y= np.array(label)\n",
    "X=X/255"
   ]
  },
  {
   "cell_type": "markdown",
   "id": "1d9c4fc6-4b1d-4f4e-ae7e-41e959c16ea0",
   "metadata": {},
   "source": [
    "# Split the data #"
   ]
  },
  {
   "cell_type": "code",
   "execution_count": 6,
   "id": "b1da1bc9-2053-4eb6-95b4-edc0e135d8d4",
   "metadata": {},
   "outputs": [],
   "source": [
    "X_temp, X_test, y_temp, y_test = train_test_split(X, Y, test_size=0.1, random_state=42)\n",
    "X_train, X_val, y_train, y_val = train_test_split(X_temp, y_temp, test_size=0.2, random_state=42)"
   ]
  },
  {
   "cell_type": "markdown",
   "id": "83a9a836-0d6a-46f1-b8e0-5cbe53e21df6",
   "metadata": {},
   "source": [
    "# Build, summarize, and compile deep learning models using TensorFlow's Keras API #"
   ]
  },
  {
   "cell_type": "code",
   "execution_count": 7,
   "id": "d775d93f-67b9-4f44-998a-169a3322df4a",
   "metadata": {},
   "outputs": [
    {
     "name": "stdout",
     "output_type": "stream",
     "text": [
      "Model: \"sequential\"\n",
      "_________________________________________________________________\n",
      " Layer (type)                Output Shape              Param #   \n",
      "=================================================================\n",
      " conv2d (Conv2D)             (None, 28, 28, 32)        896       \n",
      "                                                                 \n",
      " max_pooling2d (MaxPooling2D  (None, 14, 14, 32)       0         \n",
      " )                                                               \n",
      "                                                                 \n",
      " conv2d_1 (Conv2D)           (None, 14, 14, 64)        18496     \n",
      "                                                                 \n",
      " max_pooling2d_1 (MaxPooling  (None, 7, 7, 64)         0         \n",
      " 2D)                                                             \n",
      "                                                                 \n",
      " batch_normalization (BatchN  (None, 7, 7, 64)         256       \n",
      " ormalization)                                                   \n",
      "                                                                 \n",
      " dropout (Dropout)           (None, 7, 7, 64)          0         \n",
      "                                                                 \n",
      " flatten (Flatten)           (None, 3136)              0         \n",
      "                                                                 \n",
      " dense (Dense)               (None, 256)               803072    \n",
      "                                                                 \n",
      " dense_1 (Dense)             (None, 35)                8995      \n",
      "                                                                 \n",
      "=================================================================\n",
      "Total params: 831,715\n",
      "Trainable params: 831,587\n",
      "Non-trainable params: 128\n",
      "_________________________________________________________________\n"
     ]
    }
   ],
   "source": [
    "num_classes = len(classes)\n",
    "cnn_cr= Sequential()\n",
    "cnn_cr.add(Input(shape=(28,28,3)))\n",
    "cnn_cr.add(Conv2D(32, kernel_size=(3, 3), activation='relu',strides = 1 , padding = 'same'))\n",
    "cnn_cr.add(MaxPooling2D(pool_size=(2, 2),strides = 2 , padding = 'same'))\n",
    "cnn_cr.add(Conv2D(64, kernel_size=(3, 3), activation='relu',strides = 1 , padding = 'same'))\n",
    "cnn_cr.add(MaxPooling2D(pool_size=(2, 2),strides = 2 , padding = 'same'))\n",
    "cnn_cr.add(BatchNormalization())\n",
    "cnn_cr.add(Dropout(0.2))\n",
    "cnn_cr.add(Flatten())\n",
    "cnn_cr.add(Dense(256, activation='relu'))\n",
    "cnn_cr.add(Dense(num_classes, activation='softmax'))\n",
    "cnn_cr.compile(optimizer='adam', loss='categorical_crossentropy', metrics=['accuracy'])\n",
    "cnn_cr.summary()"
   ]
  },
  {
   "cell_type": "markdown",
   "id": "0f609570-e40b-40bd-9a4f-9162d99652ef",
   "metadata": {},
   "source": [
    "# Train and save the model #"
   ]
  },
  {
   "cell_type": "code",
   "execution_count": 8,
   "id": "ea7ef8af-715f-475e-a20b-8a44ce3e3696",
   "metadata": {},
   "outputs": [
    {
     "name": "stdout",
     "output_type": "stream",
     "text": [
      "Epoch 1/20\n",
      "512/512 [==============================] - 24s 13ms/step - loss: 0.2407 - accuracy: 0.9327 - val_loss: 0.0471 - val_accuracy: 0.9928\n",
      "Epoch 2/20\n",
      "512/512 [==============================] - 6s 11ms/step - loss: 0.0338 - accuracy: 0.9898 - val_loss: 0.0719 - val_accuracy: 0.9811\n",
      "Epoch 3/20\n",
      "512/512 [==============================] - 5s 10ms/step - loss: 0.0231 - accuracy: 0.9930 - val_loss: 0.0342 - val_accuracy: 0.9876\n",
      "Epoch 4/20\n",
      "512/512 [==============================] - 6s 11ms/step - loss: 0.0201 - accuracy: 0.9944 - val_loss: 0.0289 - val_accuracy: 0.9944\n",
      "Epoch 5/20\n",
      "512/512 [==============================] - 6s 11ms/step - loss: 0.0191 - accuracy: 0.9948 - val_loss: 0.1619 - val_accuracy: 0.9596\n",
      "Epoch 6/20\n",
      "512/512 [==============================] - 5s 10ms/step - loss: 0.0197 - accuracy: 0.9944 - val_loss: 0.0526 - val_accuracy: 0.9894\n",
      "Epoch 7/20\n",
      "512/512 [==============================] - 6s 11ms/step - loss: 0.0172 - accuracy: 0.9946 - val_loss: 0.0212 - val_accuracy: 0.9931\n",
      "Epoch 8/20\n",
      "512/512 [==============================] - 6s 11ms/step - loss: 0.0156 - accuracy: 0.9955 - val_loss: 0.0322 - val_accuracy: 0.9911\n",
      "Epoch 9/20\n",
      "512/512 [==============================] - 5s 11ms/step - loss: 0.0133 - accuracy: 0.9968 - val_loss: 0.0408 - val_accuracy: 0.9889\n",
      "Epoch 10/20\n",
      "512/512 [==============================] - 6s 11ms/step - loss: 0.0096 - accuracy: 0.9974 - val_loss: 0.0587 - val_accuracy: 0.9858\n",
      "Epoch 11/20\n",
      "512/512 [==============================] - 6s 11ms/step - loss: 0.0233 - accuracy: 0.9943 - val_loss: 0.0093 - val_accuracy: 0.9975\n",
      "Epoch 12/20\n",
      "512/512 [==============================] - 6s 11ms/step - loss: 0.0095 - accuracy: 0.9977 - val_loss: 0.0053 - val_accuracy: 0.9983\n",
      "Epoch 13/20\n",
      "512/512 [==============================] - 6s 12ms/step - loss: 0.0099 - accuracy: 0.9977 - val_loss: 0.0521 - val_accuracy: 0.9894\n",
      "Epoch 14/20\n",
      "512/512 [==============================] - 6s 12ms/step - loss: 0.0163 - accuracy: 0.9964 - val_loss: 0.0879 - val_accuracy: 0.9825\n",
      "Epoch 15/20\n",
      "512/512 [==============================] - 6s 11ms/step - loss: 0.0184 - accuracy: 0.9960 - val_loss: 0.0056 - val_accuracy: 0.9987\n",
      "Epoch 16/20\n",
      "512/512 [==============================] - 6s 11ms/step - loss: 0.0033 - accuracy: 0.9992 - val_loss: 0.0115 - val_accuracy: 0.9987\n",
      "Epoch 17/20\n",
      "512/512 [==============================] - 6s 11ms/step - loss: 0.0102 - accuracy: 0.9979 - val_loss: 0.0113 - val_accuracy: 0.9972\n",
      "Epoch 18/20\n",
      "512/512 [==============================] - 6s 11ms/step - loss: 0.0027 - accuracy: 0.9993 - val_loss: 0.0076 - val_accuracy: 0.9983\n",
      "Epoch 19/20\n",
      "512/512 [==============================] - 6s 11ms/step - loss: 0.0129 - accuracy: 0.9977 - val_loss: 0.0390 - val_accuracy: 0.9906\n",
      "Epoch 20/20\n",
      "512/512 [==============================] - 6s 11ms/step - loss: 0.0205 - accuracy: 0.9955 - val_loss: 0.0104 - val_accuracy: 0.9975\n"
     ]
    }
   ],
   "source": [
    "with tf.device('/GPU:0'):\n",
    "    hist_cnn = cnn_cr.fit(X_train, y_train, batch_size=50, epochs=20, verbose=1, validation_data=(X_val,y_val), callbacks=None)\n",
    "    \n",
    "cnn_cr.save('model/my_model_cr.h5', overwrite=True) "
   ]
  },
  {
   "cell_type": "markdown",
   "id": "5b001530-848a-4c5d-8968-69e97db0d1f6",
   "metadata": {},
   "source": [
    "# Plot the training and validation accuracy of the model #"
   ]
  },
  {
   "cell_type": "code",
   "execution_count": 9,
   "id": "172fe3d0-4454-43e4-a5af-d13936ddbbb5",
   "metadata": {},
   "outputs": [
    {
     "data": {
      "image/png": "[encoded data removed]",
      "text/plain": [
       "<Figure size 640x480 with 1 Axes>"
      ]
     },
     "metadata": {},
     "output_type": "display_data"
    }
   ],
   "source": [
    "plt.plot(hist_cnn.history['accuracy'])\n",
    "plt.plot(hist_cnn.history['val_accuracy'])\n",
    "plt.title('model accuracy')\n",
    "plt.ylabel('accuracy')\n",
    "plt.xlabel('epoch')\n",
    "plt.legend(['train', 'test'], loc='upper left')\n",
    "plt.show()"
   ]
  },
  {
   "cell_type": "code",
   "execution_count": 10,
   "id": "284deace-e409-482c-92a9-8226922d00c6",
   "metadata": {},
   "outputs": [],
   "source": [
    "model = load_model('model/my_model_cr.h5')"
   ]
  },
  {
   "cell_type": "code",
   "execution_count": 11,
   "id": "7a0981c8-e0a5-4359-93b8-1a1ca7828f40",
   "metadata": {},
   "outputs": [
    {
     "name": "stdout",
     "output_type": "stream",
     "text": [
      "111/111 [==============================] - 1s 6ms/step - loss: 0.0043 - accuracy: 0.9992\n",
      "\n",
      "Test accuracy: 0.9991549253463745\n",
      "\n",
      "Test loss: 0.004280551802366972\n"
     ]
    }
   ],
   "source": [
    "test_loss, test_acc = model.evaluate(X_test, y_test)\n",
    "print('\\nTest accuracy:', test_acc)\n",
    "print('\\nTest loss:', test_loss)"
   ]
  },
  {
   "cell_type": "code",
   "execution_count": 31,
   "id": "03af3382-d771-444a-8b19-d88a3a251af1",
   "metadata": {},
   "outputs": [
    {
     "name": "stdout",
     "output_type": "stream",
     "text": [
      "3550 2882\n"
     ]
    },
    {
     "data": {
      "image/png": "[encoded data removed]",
      "text/plain": [
       "<Figure size 640x480 with 1 Axes>"
      ]
     },
     "metadata": {},
     "output_type": "display_data"
    },
    {
     "name": "stdout",
     "output_type": "stream",
     "text": [
      "1/1 [==============================] - 0s 34ms/step\n",
      "[2]\n",
      "2\n"
     ]
    }
   ],
   "source": [
    "ran_num = random.randint(0,len(X_test))\n",
    "print(len(X_test), ran_num)\n",
    "plt.figure()\n",
    "plt.imshow(X_test[ran_num])\n",
    "plt.title('Character')\n",
    "plt.show()\n",
    "y = model.predict(X_test[ran_num:ran_num+1])\n",
    "y_one_hot = np.argmax(y, axis=-1)  # 使用 -1 作為 axis 參數\n",
    "print(y_one_hot)\n",
    "print(classes[y_one_hot[0]])"
   ]
  }
 ],
 "metadata": {
  "kernelspec": {
   "display_name": "Python 3 (ipykernel)",
   "language": "python",
   "name": "python3"
  },
  "language_info": {
   "codemirror_mode": {
    "name": "ipython",
    "version": 3
   },
   "file_extension": ".py",
   "mimetype": "text/x-python",
   "name": "python",
   "nbconvert_exporter": "python",
   "pygments_lexer": "ipython3",
   "version": "3.9.19"
  }
 },
 "nbformat": 4,
 "nbformat_minor": 5
}
